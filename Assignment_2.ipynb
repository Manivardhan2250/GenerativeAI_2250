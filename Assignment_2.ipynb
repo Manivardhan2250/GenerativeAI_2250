{
  "nbformat": 4,
  "nbformat_minor": 0,
  "metadata": {
    "colab": {
      "provenance": [],
      "authorship_tag": "ABX9TyO98GQ6Kev7n0ZuqUBs+NQk",
      "include_colab_link": true
    },
    "kernelspec": {
      "name": "python3",
      "display_name": "Python 3"
    },
    "language_info": {
      "name": "python"
    }
  },
  "cells": [
    {
      "cell_type": "markdown",
      "metadata": {
        "id": "view-in-github",
        "colab_type": "text"
      },
      "source": [
        "<a href=\"https://colab.research.google.com/github/Manivardhan2250/GenerativeAI_2250_B43/blob/main/Assignment_2.ipynb\" target=\"_parent\"><img src=\"https://colab.research.google.com/assets/colab-badge.svg\" alt=\"Open In Colab\"/></a>"
      ]
    },
    {
      "cell_type": "code",
      "execution_count": 2,
      "metadata": {
        "colab": {
          "base_uri": "https://localhost:8080/"
        },
        "id": "WYsafKISNu2G",
        "outputId": "7ca8099c-467b-449c-c234-f86fceeddac4"
      },
      "outputs": [
        {
          "output_type": "stream",
          "name": "stdout",
          "text": [
            "Optimal Solution Found!\n",
            "Number of units of Chocolate A: 2\n",
            "Number of units of Chocolate B: 3\n",
            "Maximum Profit: Rs 27.00\n"
          ]
        }
      ],
      "source": [
        "from scipy.optimize import linprog\n",
        "profit_coefficients = [-6, -5]\n",
        "constraints_lhs = [\n",
        "    [1, 1],\n",
        "    [3, 2]\n",
        "]\n",
        "constraints_rhs = [5, 12]\n",
        "variable_bounds = [(0, None), (0, None)]\n",
        "result = linprog(\n",
        "    c=profit_coefficients,\n",
        "    A_ub=constraints_lhs,\n",
        "    b_ub=constraints_rhs,\n",
        "    bounds=variable_bounds,\n",
        "    method=\"highs\"\n",
        ")\n",
        "if result.success:\n",
        "    print(\"Optimal Solution Found!\")\n",
        "    print(f\"Number of units of Chocolate A: {int(result.x[0])}\")\n",
        "    print(f\"Number of units of Chocolate B: {int(result.x[1])}\")\n",
        "    print(f\"Maximum Profit: Rs {abs(result.fun):.2f}\")\n",
        "else:\n",
        "    print(\"No solution found.\")"
      ]
    },
    {
      "cell_type": "code",
      "source": [
        "from scipy.optimize import linprog\n",
        "c = [-120, -50]\n",
        "A = [\n",
        "    [1, 1],\n",
        "    [7000, 2000],\n",
        "    [10, 30]\n",
        "]\n",
        "b = [110, 700000, 1200]\n",
        "x_bounds = (0, None)\n",
        "bounds = [x_bounds, x_bounds]\n",
        "result = linprog(c, A_ub=A, b_ub=b, bounds=bounds, method='highs')\n",
        "if result.success:\n",
        "    print(\"Optimal Solution Found!\")\n",
        "    print(f\"Area allocated to Wheat (x1): {result.x[0]:.2f} hectares\")\n",
        "    print(f\"Area allocated to Barley (x2): {result.x[1]:.2f} hectares\")\n",
        "    print(f\"Maximum Profit: Rs. {-result.fun:.2f}\")\n",
        "else:\n",
        "    print(\"No optimal solution found.\")"
      ],
      "metadata": {
        "colab": {
          "base_uri": "https://localhost:8080/"
        },
        "id": "IIVrRLZZVbSh",
        "outputId": "d34c83e6-d6a8-4938-f3e7-f4ee6c8524ee"
      },
      "execution_count": 3,
      "outputs": [
        {
          "output_type": "stream",
          "name": "stdout",
          "text": [
            "Optimal Solution Found!\n",
            "Area allocated to Wheat (x1): 97.89 hectares\n",
            "Area allocated to Barley (x2): 7.37 hectares\n",
            "Maximum Profit: Rs. 12115.79\n"
          ]
        }
      ]
    },
    {
      "cell_type": "code",
      "source": [],
      "metadata": {
        "id": "UuwarXychz6f"
      },
      "execution_count": null,
      "outputs": []
    }
  ]
}